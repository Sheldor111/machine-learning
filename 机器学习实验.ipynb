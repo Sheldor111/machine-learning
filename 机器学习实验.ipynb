{
 "cells": [
  {
   "cell_type": "markdown",
   "metadata": {},
   "source": [
    "# 数据处理，特征选择，建模过程"
   ]
  },
  {
   "cell_type": "code",
   "execution_count": 2,
   "metadata": {},
   "outputs": [],
   "source": [
    "import os, re, json, gc, itertools\n",
    "import time\n",
    "from datetime import datetime\n",
    "\n",
    "import pandas as pd\n",
    "import numpy as np\n",
    "from sklearn.preprocessing import StandardScaler\n",
    "\n",
    "from sklearn import metrics\n",
    "from sklearn.model_selection import train_test_split, KFold, StratifiedKFold\n",
    "\n",
    "import joblib\n",
    "import xgboost as xgb\n",
    "import lightgbm as lgb\n",
    "\n",
    "\n",
    "from sklearn.preprocessing import LabelEncoder\n",
    "from sklearn.metrics import log_loss, accuracy_score\n"
   ]
  },
  {
   "cell_type": "code",
   "execution_count": 3,
   "metadata": {},
   "outputs": [
    {
     "name": "stdout",
     "output_type": "stream",
     "text": [
      "Parameter1       0\n",
      "Parameter2       0\n",
      "Parameter3       0\n",
      "Parameter4       0\n",
      "Parameter5       0\n",
      "Parameter6       0\n",
      "Parameter7       0\n",
      "Parameter8       0\n",
      "Parameter9       0\n",
      "Parameter10      0\n",
      "Attribute1       0\n",
      "Attribute2       0\n",
      "Attribute3       0\n",
      "Attribute4       0\n",
      "Attribute5       0\n",
      "Attribute6       0\n",
      "Attribute7       0\n",
      "Attribute8       0\n",
      "Attribute9       0\n",
      "Attribute10      0\n",
      "Quality_label    0\n",
      "dtype: int64\n",
      "Group             0\n",
      "Parameter1        0\n",
      "Parameter10       0\n",
      "Parameter2        0\n",
      "Parameter3        0\n",
      "Parameter4        0\n",
      "Parameter5        0\n",
      "Parameter6        0\n",
      "Parameter7        0\n",
      "Parameter8        0\n",
      "Parameter9     3000\n",
      "dtype: int64\n"
     ]
    }
   ],
   "source": [
    "# load data\n",
    "train = pd.read_csv(r'D:\\data\\second_round_training_data.csv')\n",
    "test = pd.read_csv(r'D:\\data\\second_round_testing_data.csv')\n",
    "# 缺失值检查\n",
    "\n",
    "print(train.isnull().sum())\n",
    "print(test.isnull().sum())"
   ]
  },
  {
   "cell_type": "code",
   "execution_count": 3,
   "metadata": {},
   "outputs": [],
   "source": [
    "import matplotlib.pyplot as plt\n",
    "\n",
    "plt.rcParams['font.sans-serif'] = ['SimHei']  # 用来正常显示中文标签\n",
    "plt.rcParams['axes.unicode_minus'] = False  # 用来正常显示负号"
   ]
  },
  {
   "cell_type": "code",
   "execution_count": 7,
   "metadata": {},
   "outputs": [
    {
     "data": {
      "text/plain": [
       "<AxesSubplot:ylabel='Density'>"
      ]
     },
     "execution_count": 7,
     "metadata": {},
     "output_type": "execute_result"
    },
    {
     "data": {
      "image/png": "[encoded data removed]",
      "text/plain": [
       "<Figure size 432x288 with 1 Axes>"
      ]
     },
     "metadata": {
      "needs_background": "light"
     },
     "output_type": "display_data"
    }
   ],
   "source": [
    "train.plot(kind='kde') #KDE图，KDE图也被称作密度图(Kernel Density Estimate,核密度估计)"
   ]
  },
  {
   "cell_type": "code",
   "execution_count": 8,
   "metadata": {},
   "outputs": [
    {
     "data": {
      "text/plain": [
       "<AxesSubplot:ylabel='Density'>"
      ]
     },
     "execution_count": 8,
     "metadata": {},
     "output_type": "execute_result"
    },
    {
     "data": {
      "image/png": "[encoded data removed]",
      "text/plain": [
       "<Figure size 432x288 with 1 Axes>"
      ]
     },
     "metadata": {
      "needs_background": "light"
     },
     "output_type": "display_data"
    }
   ],
   "source": [
    "test.plot(kind='kde') #KDE图，KDE图也被称作密度图(Kernel Density Estimate,核密度估计)"
   ]
  },
  {
   "cell_type": "code",
   "execution_count": null,
   "metadata": {},
   "outputs": [],
   "source": [
    "\n"
   ]
  },
  {
   "cell_type": "code",
   "execution_count": 4,
   "metadata": {},
   "outputs": [],
   "source": [
    "# train 分离 target\n",
    "target = train.pop('Quality_label')\n"
   ]
  },
  {
   "cell_type": "code",
   "execution_count": 5,
   "metadata": {},
   "outputs": [],
   "source": [
    "# target 编码\n",
    "target = (target.astype(\"category\")\n",
    "          .cat.set_categories([\"Fail\", \"Pass\", \"Good\", \"Excellent\"])\n",
    "          .cat.codes)\n",
    "target = target.rename('target')"
   ]
  },
  {
   "cell_type": "code",
   "execution_count": 4,
   "metadata": {},
   "outputs": [
    {
     "data": {
      "text/html": [
       "<div>\n",
       "<style scoped>\n",
       "    .dataframe tbody tr th:only-of-type {\n",
       "        vertical-align: middle;\n",
       "    }\n",
       "\n",
       "    .dataframe tbody tr th {\n",
       "        vertical-align: top;\n",
       "    }\n",
       "\n",
       "    .dataframe thead th {\n",
       "        text-align: right;\n",
       "    }\n",
       "</style>\n",
       "<table border=\"1\" class=\"dataframe\">\n",
       "  <thead>\n",
       "    <tr style=\"text-align: right;\">\n",
       "      <th></th>\n",
       "      <th>Parameter1</th>\n",
       "      <th>Parameter2</th>\n",
       "      <th>Parameter3</th>\n",
       "      <th>Parameter4</th>\n",
       "      <th>Parameter5</th>\n",
       "      <th>Parameter6</th>\n",
       "      <th>Parameter7</th>\n",
       "      <th>Parameter8</th>\n",
       "      <th>Parameter9</th>\n",
       "      <th>Parameter10</th>\n",
       "      <th>Quality_label</th>\n",
       "    </tr>\n",
       "  </thead>\n",
       "  <tbody>\n",
       "    <tr>\n",
       "      <th>0</th>\n",
       "      <td>0.167898</td>\n",
       "      <td>104.443982</td>\n",
       "      <td>2.772825</td>\n",
       "      <td>0.146548</td>\n",
       "      <td>0.000421</td>\n",
       "      <td>0.000612</td>\n",
       "      <td>2286.523413</td>\n",
       "      <td>0.035407</td>\n",
       "      <td>0.593081</td>\n",
       "      <td>1.010385</td>\n",
       "      <td>Pass</td>\n",
       "    </tr>\n",
       "    <tr>\n",
       "      <th>1</th>\n",
       "      <td>252.483066</td>\n",
       "      <td>0.343232</td>\n",
       "      <td>0.066873</td>\n",
       "      <td>0.002495</td>\n",
       "      <td>0.000909</td>\n",
       "      <td>0.002397</td>\n",
       "      <td>2286.523413</td>\n",
       "      <td>0.035407</td>\n",
       "      <td>0.593081</td>\n",
       "      <td>1.010385</td>\n",
       "      <td>Fail</td>\n",
       "    </tr>\n",
       "    <tr>\n",
       "      <th>2</th>\n",
       "      <td>4.124654</td>\n",
       "      <td>0.170534</td>\n",
       "      <td>0.383800</td>\n",
       "      <td>0.000004</td>\n",
       "      <td>0.000909</td>\n",
       "      <td>0.001972</td>\n",
       "      <td>2286.523413</td>\n",
       "      <td>0.035407</td>\n",
       "      <td>0.593081</td>\n",
       "      <td>1.010385</td>\n",
       "      <td>Fail</td>\n",
       "    </tr>\n",
       "    <tr>\n",
       "      <th>3</th>\n",
       "      <td>294.656750</td>\n",
       "      <td>6.153711</td>\n",
       "      <td>0.014716</td>\n",
       "      <td>4284.326273</td>\n",
       "      <td>0.000909</td>\n",
       "      <td>0.002397</td>\n",
       "      <td>2286.523413</td>\n",
       "      <td>0.035407</td>\n",
       "      <td>0.593081</td>\n",
       "      <td>1.010385</td>\n",
       "      <td>Fail</td>\n",
       "    </tr>\n",
       "    <tr>\n",
       "      <th>4</th>\n",
       "      <td>0.026284</td>\n",
       "      <td>0.166810</td>\n",
       "      <td>7.587398</td>\n",
       "      <td>0.002202</td>\n",
       "      <td>0.000909</td>\n",
       "      <td>0.002397</td>\n",
       "      <td>2286.523413</td>\n",
       "      <td>0.035407</td>\n",
       "      <td>0.593081</td>\n",
       "      <td>1.010385</td>\n",
       "      <td>Fail</td>\n",
       "    </tr>\n",
       "    <tr>\n",
       "      <th>...</th>\n",
       "      <td>...</td>\n",
       "      <td>...</td>\n",
       "      <td>...</td>\n",
       "      <td>...</td>\n",
       "      <td>...</td>\n",
       "      <td>...</td>\n",
       "      <td>...</td>\n",
       "      <td>...</td>\n",
       "      <td>...</td>\n",
       "      <td>...</td>\n",
       "      <td>...</td>\n",
       "    </tr>\n",
       "    <tr>\n",
       "      <th>12929</th>\n",
       "      <td>0.047691</td>\n",
       "      <td>4100.626150</td>\n",
       "      <td>206.419171</td>\n",
       "      <td>963.227568</td>\n",
       "      <td>0.027434</td>\n",
       "      <td>0.044685</td>\n",
       "      <td>0.600827</td>\n",
       "      <td>0.118077</td>\n",
       "      <td>887.611257</td>\n",
       "      <td>100.165262</td>\n",
       "      <td>Fail</td>\n",
       "    </tr>\n",
       "    <tr>\n",
       "      <th>12930</th>\n",
       "      <td>25.364398</td>\n",
       "      <td>8.175837</td>\n",
       "      <td>0.022862</td>\n",
       "      <td>0.145178</td>\n",
       "      <td>3.856009</td>\n",
       "      <td>3.965023</td>\n",
       "      <td>0.600827</td>\n",
       "      <td>17.850021</td>\n",
       "      <td>6.783967</td>\n",
       "      <td>2.705518</td>\n",
       "      <td>Pass</td>\n",
       "    </tr>\n",
       "    <tr>\n",
       "      <th>12931</th>\n",
       "      <td>0.001252</td>\n",
       "      <td>0.029016</td>\n",
       "      <td>10.955593</td>\n",
       "      <td>1.436280</td>\n",
       "      <td>3.856009</td>\n",
       "      <td>3.262468</td>\n",
       "      <td>0.600827</td>\n",
       "      <td>17.850021</td>\n",
       "      <td>6.783967</td>\n",
       "      <td>2.705518</td>\n",
       "      <td>Pass</td>\n",
       "    </tr>\n",
       "    <tr>\n",
       "      <th>12932</th>\n",
       "      <td>0.027662</td>\n",
       "      <td>0.118413</td>\n",
       "      <td>554.722425</td>\n",
       "      <td>5.398536</td>\n",
       "      <td>3.454681</td>\n",
       "      <td>7.117767</td>\n",
       "      <td>0.600827</td>\n",
       "      <td>17.850021</td>\n",
       "      <td>6.783967</td>\n",
       "      <td>2.705518</td>\n",
       "      <td>Pass</td>\n",
       "    </tr>\n",
       "    <tr>\n",
       "      <th>12933</th>\n",
       "      <td>0.000854</td>\n",
       "      <td>68.226467</td>\n",
       "      <td>0.859155</td>\n",
       "      <td>0.424739</td>\n",
       "      <td>6.680183</td>\n",
       "      <td>7.117767</td>\n",
       "      <td>0.152059</td>\n",
       "      <td>6.542504</td>\n",
       "      <td>0.051850</td>\n",
       "      <td>100.165262</td>\n",
       "      <td>Good</td>\n",
       "    </tr>\n",
       "  </tbody>\n",
       "</table>\n",
       "<p>12934 rows × 11 columns</p>\n",
       "</div>"
      ],
      "text/plain": [
       "       Parameter1   Parameter2  Parameter3   Parameter4  Parameter5  \\\n",
       "0        0.167898   104.443982    2.772825     0.146548    0.000421   \n",
       "1      252.483066     0.343232    0.066873     0.002495    0.000909   \n",
       "2        4.124654     0.170534    0.383800     0.000004    0.000909   \n",
       "3      294.656750     6.153711    0.014716  4284.326273    0.000909   \n",
       "4        0.026284     0.166810    7.587398     0.002202    0.000909   \n",
       "...           ...          ...         ...          ...         ...   \n",
       "12929    0.047691  4100.626150  206.419171   963.227568    0.027434   \n",
       "12930   25.364398     8.175837    0.022862     0.145178    3.856009   \n",
       "12931    0.001252     0.029016   10.955593     1.436280    3.856009   \n",
       "12932    0.027662     0.118413  554.722425     5.398536    3.454681   \n",
       "12933    0.000854    68.226467    0.859155     0.424739    6.680183   \n",
       "\n",
       "       Parameter6   Parameter7  Parameter8  Parameter9  Parameter10  \\\n",
       "0        0.000612  2286.523413    0.035407    0.593081     1.010385   \n",
       "1        0.002397  2286.523413    0.035407    0.593081     1.010385   \n",
       "2        0.001972  2286.523413    0.035407    0.593081     1.010385   \n",
       "3        0.002397  2286.523413    0.035407    0.593081     1.010385   \n",
       "4        0.002397  2286.523413    0.035407    0.593081     1.010385   \n",
       "...           ...          ...         ...         ...          ...   \n",
       "12929    0.044685     0.600827    0.118077  887.611257   100.165262   \n",
       "12930    3.965023     0.600827   17.850021    6.783967     2.705518   \n",
       "12931    3.262468     0.600827   17.850021    6.783967     2.705518   \n",
       "12932    7.117767     0.600827   17.850021    6.783967     2.705518   \n",
       "12933    7.117767     0.152059    6.542504    0.051850   100.165262   \n",
       "\n",
       "      Quality_label  \n",
       "0              Pass  \n",
       "1              Fail  \n",
       "2              Fail  \n",
       "3              Fail  \n",
       "4              Fail  \n",
       "...             ...  \n",
       "12929          Fail  \n",
       "12930          Pass  \n",
       "12931          Pass  \n",
       "12932          Pass  \n",
       "12933          Good  \n",
       "\n",
       "[12934 rows x 11 columns]"
      ]
     },
     "execution_count": 4,
     "metadata": {},
     "output_type": "execute_result"
    }
   ],
   "source": [
    "# train 分离 parameter 和 attribute\n",
    "col_attr=[f'Attribute{x}' for x in range(1,11)]\n",
    "attr = train[col_attr]\n",
    "train = train.drop(columns=col_attr)\n",
    "train"
   ]
  },
  {
   "cell_type": "code",
   "execution_count": 25,
   "metadata": {},
   "outputs": [],
   "source": [
    "# test 分离 group\n",
    "group = test.pop('Group')\n",
    "group = group.rename('group')"
   ]
  },
  {
   "cell_type": "code",
   "execution_count": null,
   "metadata": {},
   "outputs": [],
   "source": [
    "## 合并标签和特征信息\n",
    "import  seaborn as sns\n",
    "train = train.copy() ##进行浅拷贝，防止对于原始数据的修改\n",
    "train['target'] = target\n",
    "## 特征与标签组合的散点可视化\n",
    "sns.pairplot(data=train,diag_kind='hist', hue= 'target')\n",
    "plt.show()\n"
   ]
  },
  {
   "cell_type": "code",
   "execution_count": 26,
   "metadata": {},
   "outputs": [],
   "source": [
    "# test 调整参数顺序，与 train 保持一致\n",
    "col_test = [f\"Parameter{x}\" for x in range(1, 11)]\n",
    "test = test[col_test]"
   ]
  },
  {
   "cell_type": "code",
   "execution_count": 9,
   "metadata": {},
   "outputs": [],
   "source": [
    "# 简化列名\n",
    "colnames = [f'p{i}' for i in range(1,11)]\n",
    "train.columns = colnames\n",
    "test.columns = colnames\n",
    "colnames = [f'a{i}' for i in range(1,11)]\n",
    "attr.columns = colnames"
   ]
  },
  {
   "cell_type": "code",
   "execution_count": 10,
   "metadata": {},
   "outputs": [],
   "source": [
    "# rounding\n",
    "round_fmt = {1:11,2:11,3:11,4:11,\n",
    "             5:8,6:8,7:8,8:8,9:8,10:8}\n",
    "for i,r in round_fmt.items():\n",
    "    train[f'p{i}']=train[f'p{i}'].round(r)\n",
    "    test[f'p{i}']=test[f'p{i}'].round(r)"
   ]
  },
  {
   "cell_type": "code",
   "execution_count": 11,
   "metadata": {},
   "outputs": [],
   "source": [
    "# transform log2\n",
    "# 对数转换和归一化后存在负数，影响加减乘除的结果\n",
    "# 需要测试对数转换前的效果\n",
    "train = train.apply(np.log2)\n",
    "attr = attr.apply(np.log2)\n",
    "test = test.apply(np.log2)"
   ]
  },
  {
   "cell_type": "code",
   "execution_count": 19,
   "metadata": {},
   "outputs": [
    {
     "data": {
      "image/png": "[encoded data removed]",
      "text/plain": [
       "<Figure size 432x288 with 1 Axes>"
      ]
     },
     "metadata": {
      "needs_background": "light"
     },
     "output_type": "display_data"
    },
    {
     "data": {
      "image/png": "[encoded data removed]",
      "text/plain": [
       "<Figure size 432x288 with 1 Axes>"
      ]
     },
     "metadata": {
      "needs_background": "light"
     },
     "output_type": "display_data"
    },
    {
     "data": {
      "image/png": "[encoded data removed]",
      "text/plain": [
       "<Figure size 432x288 with 1 Axes>"
      ]
     },
     "metadata": {
      "needs_background": "light"
     },
     "output_type": "display_data"
    },
    {
     "data": {
      "image/png": "[encoded data removed]",
      "text/plain": [
       "<Figure size 432x288 with 1 Axes>"
      ]
     },
     "metadata": {
      "needs_background": "light"
     },
     "output_type": "display_data"
    },
    {
     "data": {
      "image/png": "[encoded data removed]",
      "text/plain": [
       "<Figure size 432x288 with 1 Axes>"
      ]
     },
     "metadata": {
      "needs_background": "light"
     },
     "output_type": "display_data"
    },
    {
     "data": {
      "image/png": "[encoded data removed]",
      "text/plain": [
       "<Figure size 432x288 with 1 Axes>"
      ]
     },
     "metadata": {
      "needs_background": "light"
     },
     "output_type": "display_data"
    },
    {
     "data": {
      "image/png": "[encoded data removed]",
      "text/plain": [
       "<Figure size 432x288 with 1 Axes>"
      ]
     },
     "metadata": {
      "needs_background": "light"
     },
     "output_type": "display_data"
    },
    {
     "data": {
      "image/png": "[encoded data removed]",
      "text/plain": [
       "<Figure size 432x288 with 1 Axes>"
      ]
     },
     "metadata": {
      "needs_background": "light"
     },
     "output_type": "display_data"
    },
    {
     "data": {
      "image/png": "[encoded data removed]",
      "text/plain": [
       "<Figure size 432x288 with 1 Axes>"
      ]
     },
     "metadata": {
      "needs_background": "light"
     },
     "output_type": "display_data"
    },
    {
     "data": {
      "image/png": "[encoded data removed]",
      "text/plain": [
       "<Figure size 432x288 with 1 Axes>"
      ]
     },
     "metadata": {
      "needs_background": "light"
     },
     "output_type": "display_data"
    }
   ],
   "source": [
    "import matplotlib.pyplot as plt\n",
    "\n",
    "plt.rcParams['font.sans-serif'] = ['SimHei']  # 用来正常显示中文标签\n",
    "plt.rcParams['axes.unicode_minus'] = False  # 用来正常显示负号\n",
    "for i in train.columns:\n",
    "    train[i].plot.density(c='r')\n",
    "    test[i].plot.density(c='b')\n",
    "    plt.xlabel(i)\n",
    "    plt.show()"
   ]
  },
  {
   "cell_type": "code",
   "execution_count": 12,
   "metadata": {},
   "outputs": [
    {
     "data": {
      "text/html": [
       "<div>\n",
       "<style scoped>\n",
       "    .dataframe tbody tr th:only-of-type {\n",
       "        vertical-align: middle;\n",
       "    }\n",
       "\n",
       "    .dataframe tbody tr th {\n",
       "        vertical-align: top;\n",
       "    }\n",
       "\n",
       "    .dataframe thead th {\n",
       "        text-align: right;\n",
       "    }\n",
       "</style>\n",
       "<table border=\"1\" class=\"dataframe\">\n",
       "  <thead>\n",
       "    <tr style=\"text-align: right;\">\n",
       "      <th></th>\n",
       "      <th>p1</th>\n",
       "      <th>p2</th>\n",
       "      <th>p3</th>\n",
       "      <th>p4</th>\n",
       "      <th>p5</th>\n",
       "      <th>p6</th>\n",
       "      <th>p7</th>\n",
       "      <th>p8</th>\n",
       "      <th>p9</th>\n",
       "      <th>p10</th>\n",
       "    </tr>\n",
       "  </thead>\n",
       "  <tbody>\n",
       "    <tr>\n",
       "      <th>0</th>\n",
       "      <td>-2.574342</td>\n",
       "      <td>6.706586</td>\n",
       "      <td>1.471356</td>\n",
       "      <td>-2.770559</td>\n",
       "      <td>-11.213036</td>\n",
       "      <td>-10.674110</td>\n",
       "      <td>11.158940</td>\n",
       "      <td>-4.819815</td>\n",
       "      <td>-0.753698</td>\n",
       "      <td>0.014905</td>\n",
       "    </tr>\n",
       "    <tr>\n",
       "      <th>1</th>\n",
       "      <td>7.980043</td>\n",
       "      <td>-1.542744</td>\n",
       "      <td>-3.902437</td>\n",
       "      <td>-8.646580</td>\n",
       "      <td>-10.103131</td>\n",
       "      <td>-8.704548</td>\n",
       "      <td>11.158940</td>\n",
       "      <td>-4.819815</td>\n",
       "      <td>-0.753698</td>\n",
       "      <td>0.014905</td>\n",
       "    </tr>\n",
       "    <tr>\n",
       "      <th>2</th>\n",
       "      <td>2.044273</td>\n",
       "      <td>-2.551867</td>\n",
       "      <td>-1.381575</td>\n",
       "      <td>-17.836103</td>\n",
       "      <td>-10.103131</td>\n",
       "      <td>-8.985913</td>\n",
       "      <td>11.158940</td>\n",
       "      <td>-4.819815</td>\n",
       "      <td>-0.753698</td>\n",
       "      <td>0.014905</td>\n",
       "    </tr>\n",
       "    <tr>\n",
       "      <th>3</th>\n",
       "      <td>8.202892</td>\n",
       "      <td>2.621457</td>\n",
       "      <td>-6.086486</td>\n",
       "      <td>12.064853</td>\n",
       "      <td>-10.103131</td>\n",
       "      <td>-8.704548</td>\n",
       "      <td>11.158940</td>\n",
       "      <td>-4.819815</td>\n",
       "      <td>-0.753698</td>\n",
       "      <td>0.014905</td>\n",
       "    </tr>\n",
       "    <tr>\n",
       "      <th>4</th>\n",
       "      <td>-5.249664</td>\n",
       "      <td>-2.583727</td>\n",
       "      <td>2.923605</td>\n",
       "      <td>-8.826878</td>\n",
       "      <td>-10.103131</td>\n",
       "      <td>-8.704548</td>\n",
       "      <td>11.158940</td>\n",
       "      <td>-4.819815</td>\n",
       "      <td>-0.753698</td>\n",
       "      <td>0.014905</td>\n",
       "    </tr>\n",
       "    <tr>\n",
       "      <th>...</th>\n",
       "      <td>...</td>\n",
       "      <td>...</td>\n",
       "      <td>...</td>\n",
       "      <td>...</td>\n",
       "      <td>...</td>\n",
       "      <td>...</td>\n",
       "      <td>...</td>\n",
       "      <td>...</td>\n",
       "      <td>...</td>\n",
       "      <td>...</td>\n",
       "    </tr>\n",
       "    <tr>\n",
       "      <th>12929</th>\n",
       "      <td>-4.390145</td>\n",
       "      <td>12.001629</td>\n",
       "      <td>7.689433</td>\n",
       "      <td>9.911733</td>\n",
       "      <td>-5.187904</td>\n",
       "      <td>-4.484070</td>\n",
       "      <td>-0.734979</td>\n",
       "      <td>-3.082201</td>\n",
       "      <td>9.793784</td>\n",
       "      <td>6.646238</td>\n",
       "    </tr>\n",
       "    <tr>\n",
       "      <th>12930</th>\n",
       "      <td>4.664733</td>\n",
       "      <td>3.031366</td>\n",
       "      <td>-5.450894</td>\n",
       "      <td>-2.784105</td>\n",
       "      <td>1.947108</td>\n",
       "      <td>1.987329</td>\n",
       "      <td>-0.734979</td>\n",
       "      <td>4.157854</td>\n",
       "      <td>2.762129</td>\n",
       "      <td>1.435905</td>\n",
       "    </tr>\n",
       "    <tr>\n",
       "      <th>12931</th>\n",
       "      <td>-9.641612</td>\n",
       "      <td>-5.106998</td>\n",
       "      <td>3.453596</td>\n",
       "      <td>0.522337</td>\n",
       "      <td>1.947108</td>\n",
       "      <td>1.705964</td>\n",
       "      <td>-0.734979</td>\n",
       "      <td>4.157854</td>\n",
       "      <td>2.762129</td>\n",
       "      <td>1.435905</td>\n",
       "    </tr>\n",
       "    <tr>\n",
       "      <th>12932</th>\n",
       "      <td>-5.175952</td>\n",
       "      <td>-3.078100</td>\n",
       "      <td>9.115622</td>\n",
       "      <td>2.432568</td>\n",
       "      <td>1.788553</td>\n",
       "      <td>2.831425</td>\n",
       "      <td>-0.734979</td>\n",
       "      <td>4.157854</td>\n",
       "      <td>2.762129</td>\n",
       "      <td>1.435905</td>\n",
       "    </tr>\n",
       "    <tr>\n",
       "      <th>12933</th>\n",
       "      <td>-10.193550</td>\n",
       "      <td>6.092260</td>\n",
       "      <td>-0.219010</td>\n",
       "      <td>-1.235352</td>\n",
       "      <td>2.739888</td>\n",
       "      <td>2.831425</td>\n",
       "      <td>-2.717298</td>\n",
       "      <td>2.709843</td>\n",
       "      <td>-4.269526</td>\n",
       "      <td>6.646238</td>\n",
       "    </tr>\n",
       "  </tbody>\n",
       "</table>\n",
       "<p>12934 rows × 10 columns</p>\n",
       "</div>"
      ],
      "text/plain": [
       "              p1         p2        p3         p4         p5         p6  \\\n",
       "0      -2.574342   6.706586  1.471356  -2.770559 -11.213036 -10.674110   \n",
       "1       7.980043  -1.542744 -3.902437  -8.646580 -10.103131  -8.704548   \n",
       "2       2.044273  -2.551867 -1.381575 -17.836103 -10.103131  -8.985913   \n",
       "3       8.202892   2.621457 -6.086486  12.064853 -10.103131  -8.704548   \n",
       "4      -5.249664  -2.583727  2.923605  -8.826878 -10.103131  -8.704548   \n",
       "...          ...        ...       ...        ...        ...        ...   \n",
       "12929  -4.390145  12.001629  7.689433   9.911733  -5.187904  -4.484070   \n",
       "12930   4.664733   3.031366 -5.450894  -2.784105   1.947108   1.987329   \n",
       "12931  -9.641612  -5.106998  3.453596   0.522337   1.947108   1.705964   \n",
       "12932  -5.175952  -3.078100  9.115622   2.432568   1.788553   2.831425   \n",
       "12933 -10.193550   6.092260 -0.219010  -1.235352   2.739888   2.831425   \n",
       "\n",
       "              p7        p8        p9       p10  \n",
       "0      11.158940 -4.819815 -0.753698  0.014905  \n",
       "1      11.158940 -4.819815 -0.753698  0.014905  \n",
       "2      11.158940 -4.819815 -0.753698  0.014905  \n",
       "3      11.158940 -4.819815 -0.753698  0.014905  \n",
       "4      11.158940 -4.819815 -0.753698  0.014905  \n",
       "...          ...       ...       ...       ...  \n",
       "12929  -0.734979 -3.082201  9.793784  6.646238  \n",
       "12930  -0.734979  4.157854  2.762129  1.435905  \n",
       "12931  -0.734979  4.157854  2.762129  1.435905  \n",
       "12932  -0.734979  4.157854  2.762129  1.435905  \n",
       "12933  -2.717298  2.709843 -4.269526  6.646238  \n",
       "\n",
       "[12934 rows x 10 columns]"
      ]
     },
     "execution_count": 12,
     "metadata": {},
     "output_type": "execute_result"
    }
   ],
   "source": [
    "train"
   ]
  },
  {
   "cell_type": "code",
   "execution_count": 11,
   "metadata": {},
   "outputs": [],
   "source": [
    "# 保留 P5-P10\n",
    "train = train.drop(columns=[f'p{i}' for i in range(1,5)])\n",
    "test = test.drop(columns=[f'p{i}' for i in range(1,5)])"
   ]
  },
  {
   "cell_type": "code",
   "execution_count": 12,
   "metadata": {},
   "outputs": [
    {
     "name": "stdout",
     "output_type": "stream",
     "text": [
      "(12934, 6) (6000, 6)\n"
     ]
    },
    {
     "name": "stderr",
     "output_type": "stream",
     "text": [
      "<ipython-input-12-cd79e75ffe39>:6: SettingWithCopyWarning: \n",
      "A value is trying to be set on a copy of a slice from a DataFrame.\n",
      "Try using .loc[row_indexer,col_indexer] = value instead\n",
      "\n",
      "See the caveats in the documentation: https://pandas.pydata.org/pandas-docs/stable/user_guide/indexing.html#returning-a-view-versus-a-copy\n",
      "  test_na['p9']=lbl.transform(test_na['p9'])\n"
     ]
    }
   ],
   "source": [
    "print(train.shape,test.shape)\n",
    "test['p9_isnull']=test['p9'].isna()\n",
    "test_na=test[test['p9_isnull']==False]\n",
    "lbl=LabelEncoder()#标签编码\n",
    "lbl.fit(list(test_na['p9'])+list(train['p9']))\n",
    "test_na['p9']=lbl.transform(test_na['p9'])\n",
    "train['p9']=lbl.transform(train['p9'])\n",
    "test.loc[test['p9_isnull']==False,'p9']=test_na\n",
    "del test_na"
   ]
  },
  {
   "cell_type": "code",
   "execution_count": 13,
   "metadata": {},
   "outputs": [
    {
     "name": "stderr",
     "output_type": "stream",
     "text": [
      "<ipython-input-13-1d8b4b3eea95>:5: SettingWithCopyWarning: \n",
      "A value is trying to be set on a copy of a slice from a DataFrame.\n",
      "Try using .loc[row_indexer,col_indexer] = value instead\n",
      "\n",
      "See the caveats in the documentation: https://pandas.pydata.org/pandas-docs/stable/user_guide/indexing.html#returning-a-view-versus-a-copy\n",
      "  test_not_na['p9']=lbl.transform(test_not_na['p9'])\n"
     ]
    }
   ],
   "source": [
    "test['p9_isnull']=test['p9'].isna()\n",
    "test_not_na=test[test['p9_isnull']==False]\n",
    "lbl=LabelEncoder()\n",
    "lbl.fit(list(test_not_na['p9'])+list(train['p9']))\n",
    "test_not_na['p9']=lbl.transform(test_not_na['p9'])\n",
    "train['p9']=lbl.transform(train['p9'])\n",
    "test.loc[test['p9_isnull']==False,'p9']=test_not_na\n",
    "del test_not_na"
   ]
  },
  {
   "cell_type": "code",
   "execution_count": 14,
   "metadata": {},
   "outputs": [],
   "source": [
    "parameter='p9'"
   ]
  },
  {
   "cell_type": "code",
   "execution_count": 15,
   "metadata": {},
   "outputs": [],
   "source": [
    "p9=train['p9']\n",
    "train=train.drop(columns='p9')\n",
    "df=train.join(p9)"
   ]
  },
  {
   "cell_type": "code",
   "execution_count": 16,
   "metadata": {},
   "outputs": [],
   "source": [
    "test_not_na=test[test['p9_isnull']==True]"
   ]
  },
  {
   "cell_type": "code",
   "execution_count": 17,
   "metadata": {},
   "outputs": [],
   "source": [
    "test_not_na=test_not_na.drop(columns=['p9','p9_isnull'])"
   ]
  },
  {
   "cell_type": "code",
   "execution_count": 18,
   "metadata": {},
   "outputs": [],
   "source": [
    "best_hp={'boosting_type': 'gbdt',\n",
    " 'num_leaves': 111,\n",
    " 'max_depth': -1,\n",
    " 'learning_rate': 0.1,\n",
    " 'n_estimators': 639,\n",
    " 'subsample_for_bin': 200000,\n",
    " 'objective': 'multiclass',\n",
    " 'min_split_gain': 0,\n",
    " 'min_child_weight': 0.001,\n",
    " 'min_child_samples': 5,\n",
    " 'subsample': 1.0,\n",
    " 'subsample_freq': 0,\n",
    " 'colsample_bytree': 1,\n",
    " 'reg_alpha': 0.20174465129035402,\n",
    " 'reg_lambda': 0.18200878389736302,\n",
    " 'n_jobs': -1,\n",
    " 'silent': True,\n",
    " 'importance_type': 'split',\n",
    " 'num_class': 17}"
   ]
  },
  {
   "cell_type": "code",
   "execution_count": 19,
   "metadata": {},
   "outputs": [
    {
     "data": {
      "text/plain": [
       "LGBMClassifier(colsample_bytree=1, min_child_samples=5, min_split_gain=0,\n",
       "               n_estimators=639, num_class=17, num_leaves=111,\n",
       "               objective='multiclass', reg_alpha=0.20174465129035402,\n",
       "               reg_lambda=0.18200878389736302)"
      ]
     },
     "execution_count": 19,
     "metadata": {},
     "output_type": "execute_result"
    }
   ],
   "source": [
    "m = lgb.LGBMClassifier().set_params(**best_hp)\n",
    "m.fit(train,p9)"
   ]
  },
  {
   "cell_type": "code",
   "execution_count": 20,
   "metadata": {},
   "outputs": [],
   "source": [
    "res=m.predict(test_not_na)"
   ]
  },
  {
   "cell_type": "code",
   "execution_count": 21,
   "metadata": {},
   "outputs": [],
   "source": [
    "test.loc[test['p9_isnull']==True,'p9']=res"
   ]
  },
  {
   "cell_type": "code",
   "execution_count": 22,
   "metadata": {},
   "outputs": [],
   "source": [
    "test['p9']=test['p9'].astype(int)\n",
    "test=test.drop(columns='p9_isnull')"
   ]
  },
  {
   "cell_type": "code",
   "execution_count": 23,
   "metadata": {},
   "outputs": [],
   "source": [
    "p10=train['p10']\n",
    "train=train.drop(columns='p10')\n",
    "train=train.join(p9)\n",
    "train=train.join(p10)"
   ]
  },
  {
   "cell_type": "code",
   "execution_count": 24,
   "metadata": {},
   "outputs": [
    {
     "data": {
      "text/plain": [
       "0"
      ]
     },
     "execution_count": 24,
     "metadata": {},
     "output_type": "execute_result"
    }
   ],
   "source": [
    "train['p9'].min()"
   ]
  },
  {
   "cell_type": "code",
   "execution_count": 25,
   "metadata": {},
   "outputs": [],
   "source": [
    "attribute='a4'\n",
    "df = train.join(attr[attribute])"
   ]
  },
  {
   "cell_type": "code",
   "execution_count": 26,
   "metadata": {},
   "outputs": [],
   "source": [
    "best_hp={'max_depth': 5,\n",
    " 'learning_rate': 0.1,\n",
    " 'n_estimators': 571,\n",
    " 'verbosity': 1,\n",
    " 'objective': 'reg:squarederror',\n",
    " 'booster': 'dart',\n",
    " 'n_jobs': -1,\n",
    " 'gamma': 0,\n",
    " 'min_child_weight': 1,\n",
    " 'max_delta_step': 0,\n",
    " 'subsample': 1,\n",
    " 'colsample_bytree': 1,\n",
    " 'colsample_bylevel': 1,\n",
    " 'colsample_bynode': 1,\n",
    " 'reg_alpha': 6.345561548486771,\n",
    " 'reg_lambda': 2.808394786832976,\n",
    " 'scale_pos_weight': 1,\n",
    " 'base_score': 0.5,\n",
    " 'importance_type': 'gain',\n",
    " 'num_round': 223}"
   ]
  },
  {
   "cell_type": "code",
   "execution_count": 27,
   "metadata": {},
   "outputs": [
    {
     "name": "stdout",
     "output_type": "stream",
     "text": [
      "[19:12:20] WARNING: C:/Users/Administrator/workspace/xgboost-win64_release_1.5.1/src/learner.cc:576: \n",
      "Parameters: { \"num_round\" } might not be used.\n",
      "\n",
      "  This could be a false alarm, with some parameters getting used by language bindings but\n",
      "  then being mistakenly passed down to XGBoost core, or some parameter actually being used\n",
      "  but getting flagged wrongly here. Please open an issue if you find any such cases.\n",
      "\n",
      "\n"
     ]
    },
    {
     "data": {
      "text/plain": [
       "XGBRegressor(base_score=0.5, booster='dart', colsample_bylevel=1,\n",
       "             colsample_bynode=1, colsample_bytree=1, enable_categorical=False,\n",
       "             gamma=0, gpu_id=-1, importance_type='gain',\n",
       "             interaction_constraints='', learning_rate=0.1, max_delta_step=0,\n",
       "             max_depth=5, min_child_weight=1, missing=nan,\n",
       "             monotone_constraints='()', n_estimators=571, n_jobs=-1,\n",
       "             num_parallel_tree=1, num_round=223, predictor='auto',\n",
       "             random_state=0, reg_alpha=6.345561548486771,\n",
       "             reg_lambda=2.808394786832976, scale_pos_weight=1, subsample=1,\n",
       "             tree_method='exact', validate_parameters=1, verbosity=1)"
      ]
     },
     "execution_count": 27,
     "metadata": {},
     "output_type": "execute_result"
    }
   ],
   "source": [
    "x_trn,x_val,y_trn,y_val = train_test_split(train,attr.a4,test_size=1000)\n",
    "m = xgb.XGBRegressor().set_params(**best_hp)\n",
    "m.fit(x_trn,y_trn)"
   ]
  },
  {
   "cell_type": "code",
   "execution_count": 28,
   "metadata": {},
   "outputs": [
    {
     "data": {
      "text/plain": [
       "['D:\\\\机器学习\\\\model\\\\tp3_a4.m']"
      ]
     },
     "execution_count": 28,
     "metadata": {},
     "output_type": "execute_result"
    }
   ],
   "source": [
    "# 保存模型\n",
    "joblib.dump(m,f'D:\\\\机器学习\\\\model\\\\tp3_{attribute}.m')"
   ]
  },
  {
   "cell_type": "code",
   "execution_count": 29,
   "metadata": {},
   "outputs": [],
   "source": [
    "attribute='a5'"
   ]
  },
  {
   "cell_type": "code",
   "execution_count": 30,
   "metadata": {},
   "outputs": [],
   "source": [
    "df = train.join(attr[attribute])"
   ]
  },
  {
   "cell_type": "code",
   "execution_count": 31,
   "metadata": {},
   "outputs": [],
   "source": [
    "best_hp={'max_depth': 4,\n",
    " 'learning_rate': 0.1,\n",
    " 'n_estimators': 749,\n",
    " 'verbosity': 1,\n",
    " 'objective': 'reg:squarederror',\n",
    " 'booster': 'dart',\n",
    " 'n_jobs': -1,\n",
    " 'gamma': 0,\n",
    " 'min_child_weight': 1,\n",
    " 'max_delta_step': 0,\n",
    " 'subsample': 1,\n",
    " 'colsample_bytree': 1,\n",
    " 'colsample_bylevel': 1,\n",
    " 'colsample_bynode': 1,\n",
    " 'reg_alpha': 7.819025434063891,\n",
    " 'reg_lambda': 0.005996946163704,\n",
    " 'scale_pos_weight': 1,\n",
    " 'base_score': 0.5,\n",
    " 'importance_type': 'gain',\n",
    " 'num_round': 934}"
   ]
  },
  {
   "cell_type": "code",
   "execution_count": 32,
   "metadata": {},
   "outputs": [
    {
     "name": "stdout",
     "output_type": "stream",
     "text": [
      "[19:14:14] WARNING: C:/Users/Administrator/workspace/xgboost-win64_release_1.5.1/src/learner.cc:576: \n",
      "Parameters: { \"num_round\" } might not be used.\n",
      "\n",
      "  This could be a false alarm, with some parameters getting used by language bindings but\n",
      "  then being mistakenly passed down to XGBoost core, or some parameter actually being used\n",
      "  but getting flagged wrongly here. Please open an issue if you find any such cases.\n",
      "\n",
      "\n"
     ]
    },
    {
     "data": {
      "text/plain": [
       "XGBRegressor(base_score=0.5, booster='dart', colsample_bylevel=1,\n",
       "             colsample_bynode=1, colsample_bytree=1, enable_categorical=False,\n",
       "             gamma=0, gpu_id=-1, importance_type='gain',\n",
       "             interaction_constraints='', learning_rate=0.1, max_delta_step=0,\n",
       "             max_depth=4, min_child_weight=1, missing=nan,\n",
       "             monotone_constraints='()', n_estimators=749, n_jobs=-1,\n",
       "             num_parallel_tree=1, num_round=934, predictor='auto',\n",
       "             random_state=0, reg_alpha=7.819025434063891,\n",
       "             reg_lambda=0.005996946163704, scale_pos_weight=1, subsample=1,\n",
       "             tree_method='exact', validate_parameters=1, verbosity=1)"
      ]
     },
     "execution_count": 32,
     "metadata": {},
     "output_type": "execute_result"
    }
   ],
   "source": [
    "x_trn,x_val,y_trn,y_val = train_test_split(train,attr.a5,test_size=1000)\n",
    "m = xgb.XGBRegressor().set_params(**best_hp)\n",
    "m.fit(x_trn,y_trn)"
   ]
  },
  {
   "cell_type": "code",
   "execution_count": 33,
   "metadata": {},
   "outputs": [
    {
     "data": {
      "text/plain": [
       "['D:\\\\机器学习\\\\model\\\\tp3_a5.m']"
      ]
     },
     "execution_count": 33,
     "metadata": {},
     "output_type": "execute_result"
    }
   ],
   "source": [
    "# 保存模型\n",
    "joblib.dump(m,f'D:\\\\机器学习\\\\model\\\\tp3_{attribute}.m')"
   ]
  },
  {
   "cell_type": "code",
   "execution_count": 34,
   "metadata": {},
   "outputs": [],
   "source": [
    "attribute='a6'"
   ]
  },
  {
   "cell_type": "code",
   "execution_count": 35,
   "metadata": {},
   "outputs": [],
   "source": [
    "df = train.join(attr[attribute])"
   ]
  },
  {
   "cell_type": "code",
   "execution_count": 36,
   "metadata": {},
   "outputs": [],
   "source": [
    "best_hp={'max_depth': 4,\n",
    " 'learning_rate': 0.1,\n",
    " 'n_estimators': 731,\n",
    " 'verbosity': 1,\n",
    " 'objective': 'reg:squarederror',\n",
    " 'booster': 'dart',\n",
    " 'n_jobs': -1,\n",
    " 'gamma': 0,\n",
    " 'min_child_weight': 1,\n",
    " 'max_delta_step': 0,\n",
    " 'subsample': 1,\n",
    " 'colsample_bytree': 1,\n",
    " 'colsample_bylevel': 1,\n",
    " 'colsample_bynode': 1,\n",
    " 'reg_alpha': 9.299861941127418,\n",
    " 'reg_lambda': 8.762447153395918,\n",
    " 'scale_pos_weight': 1,\n",
    " 'base_score': 0.5,\n",
    " 'importance_type': 'gain',\n",
    " 'num_round': 917}"
   ]
  },
  {
   "cell_type": "code",
   "execution_count": 37,
   "metadata": {},
   "outputs": [
    {
     "name": "stdout",
     "output_type": "stream",
     "text": [
      "[19:17:14] WARNING: C:/Users/Administrator/workspace/xgboost-win64_release_1.5.1/src/learner.cc:576: \n",
      "Parameters: { \"num_round\" } might not be used.\n",
      "\n",
      "  This could be a false alarm, with some parameters getting used by language bindings but\n",
      "  then being mistakenly passed down to XGBoost core, or some parameter actually being used\n",
      "  but getting flagged wrongly here. Please open an issue if you find any such cases.\n",
      "\n",
      "\n"
     ]
    },
    {
     "data": {
      "text/plain": [
       "XGBRegressor(base_score=0.5, booster='dart', colsample_bylevel=1,\n",
       "             colsample_bynode=1, colsample_bytree=1, enable_categorical=False,\n",
       "             gamma=0, gpu_id=-1, importance_type='gain',\n",
       "             interaction_constraints='', learning_rate=0.1, max_delta_step=0,\n",
       "             max_depth=4, min_child_weight=1, missing=nan,\n",
       "             monotone_constraints='()', n_estimators=731, n_jobs=-1,\n",
       "             num_parallel_tree=1, num_round=917, predictor='auto',\n",
       "             random_state=0, reg_alpha=9.299861941127418,\n",
       "             reg_lambda=8.762447153395918, scale_pos_weight=1, subsample=1,\n",
       "             tree_method='exact', validate_parameters=1, verbosity=1)"
      ]
     },
     "execution_count": 37,
     "metadata": {},
     "output_type": "execute_result"
    }
   ],
   "source": [
    "x_trn,x_val,y_trn,y_val = train_test_split(train,attr.a6,test_size=1000)\n",
    "m = xgb.XGBRegressor().set_params(**best_hp)\n",
    "m.fit(x_trn,y_trn)"
   ]
  },
  {
   "cell_type": "code",
   "execution_count": 38,
   "metadata": {},
   "outputs": [
    {
     "data": {
      "text/plain": [
       "['D:\\\\机器学习\\\\model\\\\tp3_a6.m']"
      ]
     },
     "execution_count": 38,
     "metadata": {},
     "output_type": "execute_result"
    }
   ],
   "source": [
    "# 保存模型\n",
    "joblib.dump(m,f'D:\\\\机器学习\\\\model\\\\tp3_{attribute}.m')"
   ]
  },
  {
   "cell_type": "code",
   "execution_count": 39,
   "metadata": {},
   "outputs": [
    {
     "name": "stdout",
     "output_type": "stream",
     "text": [
      "a4\n",
      "[19:18:49] WARNING: C:/Users/Administrator/workspace/xgboost-win64_release_1.5.1/src/learner.cc:576: \n",
      "Parameters: { \"num_round\" } might not be used.\n",
      "\n",
      "  This could be a false alarm, with some parameters getting used by language bindings but\n",
      "  then being mistakenly passed down to XGBoost core, or some parameter actually being used\n",
      "  but getting flagged wrongly here. Please open an issue if you find any such cases.\n",
      "\n",
      "\n",
      "[19:19:25] WARNING: C:/Users/Administrator/workspace/xgboost-win64_release_1.5.1/src/learner.cc:576: \n",
      "Parameters: { \"num_round\" } might not be used.\n",
      "\n",
      "  This could be a false alarm, with some parameters getting used by language bindings but\n",
      "  then being mistakenly passed down to XGBoost core, or some parameter actually being used\n",
      "  but getting flagged wrongly here. Please open an issue if you find any such cases.\n",
      "\n",
      "\n",
      "[19:20:04] WARNING: C:/Users/Administrator/workspace/xgboost-win64_release_1.5.1/src/learner.cc:576: \n",
      "Parameters: { \"num_round\" } might not be used.\n",
      "\n",
      "  This could be a false alarm, with some parameters getting used by language bindings but\n",
      "  then being mistakenly passed down to XGBoost core, or some parameter actually being used\n",
      "  but getting flagged wrongly here. Please open an issue if you find any such cases.\n",
      "\n",
      "\n",
      "[19:20:45] WARNING: C:/Users/Administrator/workspace/xgboost-win64_release_1.5.1/src/learner.cc:576: \n",
      "Parameters: { \"num_round\" } might not be used.\n",
      "\n",
      "  This could be a false alarm, with some parameters getting used by language bindings but\n",
      "  then being mistakenly passed down to XGBoost core, or some parameter actually being used\n",
      "  but getting flagged wrongly here. Please open an issue if you find any such cases.\n",
      "\n",
      "\n",
      "[19:21:24] WARNING: C:/Users/Administrator/workspace/xgboost-win64_release_1.5.1/src/learner.cc:576: \n",
      "Parameters: { \"num_round\" } might not be used.\n",
      "\n",
      "  This could be a false alarm, with some parameters getting used by language bindings but\n",
      "  then being mistakenly passed down to XGBoost core, or some parameter actually being used\n",
      "  but getting flagged wrongly here. Please open an issue if you find any such cases.\n",
      "\n",
      "\n",
      "[19:22:05] WARNING: C:/Users/Administrator/workspace/xgboost-win64_release_1.5.1/src/learner.cc:576: \n",
      "Parameters: { \"num_round\" } might not be used.\n",
      "\n",
      "  This could be a false alarm, with some parameters getting used by language bindings but\n",
      "  then being mistakenly passed down to XGBoost core, or some parameter actually being used\n",
      "  but getting flagged wrongly here. Please open an issue if you find any such cases.\n",
      "\n",
      "\n",
      "a5\n",
      "[19:22:43] WARNING: C:/Users/Administrator/workspace/xgboost-win64_release_1.5.1/src/learner.cc:576: \n",
      "Parameters: { \"num_round\" } might not be used.\n",
      "\n",
      "  This could be a false alarm, with some parameters getting used by language bindings but\n",
      "  then being mistakenly passed down to XGBoost core, or some parameter actually being used\n",
      "  but getting flagged wrongly here. Please open an issue if you find any such cases.\n",
      "\n",
      "\n",
      "[19:23:46] WARNING: C:/Users/Administrator/workspace/xgboost-win64_release_1.5.1/src/learner.cc:576: \n",
      "Parameters: { \"num_round\" } might not be used.\n",
      "\n",
      "  This could be a false alarm, with some parameters getting used by language bindings but\n",
      "  then being mistakenly passed down to XGBoost core, or some parameter actually being used\n",
      "  but getting flagged wrongly here. Please open an issue if you find any such cases.\n",
      "\n",
      "\n",
      "[19:24:51] WARNING: C:/Users/Administrator/workspace/xgboost-win64_release_1.5.1/src/learner.cc:576: \n",
      "Parameters: { \"num_round\" } might not be used.\n",
      "\n",
      "  This could be a false alarm, with some parameters getting used by language bindings but\n",
      "  then being mistakenly passed down to XGBoost core, or some parameter actually being used\n",
      "  but getting flagged wrongly here. Please open an issue if you find any such cases.\n",
      "\n",
      "\n",
      "[19:25:58] WARNING: C:/Users/Administrator/workspace/xgboost-win64_release_1.5.1/src/learner.cc:576: \n",
      "Parameters: { \"num_round\" } might not be used.\n",
      "\n",
      "  This could be a false alarm, with some parameters getting used by language bindings but\n",
      "  then being mistakenly passed down to XGBoost core, or some parameter actually being used\n",
      "  but getting flagged wrongly here. Please open an issue if you find any such cases.\n",
      "\n",
      "\n",
      "[19:27:03] WARNING: C:/Users/Administrator/workspace/xgboost-win64_release_1.5.1/src/learner.cc:576: \n",
      "Parameters: { \"num_round\" } might not be used.\n",
      "\n",
      "  This could be a false alarm, with some parameters getting used by language bindings but\n",
      "  then being mistakenly passed down to XGBoost core, or some parameter actually being used\n",
      "  but getting flagged wrongly here. Please open an issue if you find any such cases.\n",
      "\n",
      "\n",
      "[19:28:04] WARNING: C:/Users/Administrator/workspace/xgboost-win64_release_1.5.1/src/learner.cc:576: \n",
      "Parameters: { \"num_round\" } might not be used.\n",
      "\n",
      "  This could be a false alarm, with some parameters getting used by language bindings but\n",
      "  then being mistakenly passed down to XGBoost core, or some parameter actually being used\n",
      "  but getting flagged wrongly here. Please open an issue if you find any such cases.\n",
      "\n",
      "\n",
      "a6\n",
      "[19:29:08] WARNING: C:/Users/Administrator/workspace/xgboost-win64_release_1.5.1/src/learner.cc:576: \n",
      "Parameters: { \"num_round\" } might not be used.\n",
      "\n",
      "  This could be a false alarm, with some parameters getting used by language bindings but\n",
      "  then being mistakenly passed down to XGBoost core, or some parameter actually being used\n",
      "  but getting flagged wrongly here. Please open an issue if you find any such cases.\n",
      "\n",
      "\n",
      "[19:30:07] WARNING: C:/Users/Administrator/workspace/xgboost-win64_release_1.5.1/src/learner.cc:576: \n",
      "Parameters: { \"num_round\" } might not be used.\n",
      "\n",
      "  This could be a false alarm, with some parameters getting used by language bindings but\n",
      "  then being mistakenly passed down to XGBoost core, or some parameter actually being used\n",
      "  but getting flagged wrongly here. Please open an issue if you find any such cases.\n",
      "\n",
      "\n",
      "[19:31:07] WARNING: C:/Users/Administrator/workspace/xgboost-win64_release_1.5.1/src/learner.cc:576: \n",
      "Parameters: { \"num_round\" } might not be used.\n",
      "\n",
      "  This could be a false alarm, with some parameters getting used by language bindings but\n",
      "  then being mistakenly passed down to XGBoost core, or some parameter actually being used\n",
      "  but getting flagged wrongly here. Please open an issue if you find any such cases.\n",
      "\n",
      "\n",
      "[19:32:09] WARNING: C:/Users/Administrator/workspace/xgboost-win64_release_1.5.1/src/learner.cc:576: \n",
      "Parameters: { \"num_round\" } might not be used.\n",
      "\n",
      "  This could be a false alarm, with some parameters getting used by language bindings but\n",
      "  then being mistakenly passed down to XGBoost core, or some parameter actually being used\n",
      "  but getting flagged wrongly here. Please open an issue if you find any such cases.\n",
      "\n",
      "\n",
      "[19:33:07] WARNING: C:/Users/Administrator/workspace/xgboost-win64_release_1.5.1/src/learner.cc:576: \n",
      "Parameters: { \"num_round\" } might not be used.\n",
      "\n",
      "  This could be a false alarm, with some parameters getting used by language bindings but\n",
      "  then being mistakenly passed down to XGBoost core, or some parameter actually being used\n",
      "  but getting flagged wrongly here. Please open an issue if you find any such cases.\n",
      "\n",
      "\n",
      "[19:34:07] WARNING: C:/Users/Administrator/workspace/xgboost-win64_release_1.5.1/src/learner.cc:576: \n",
      "Parameters: { \"num_round\" } might not be used.\n",
      "\n",
      "  This could be a false alarm, with some parameters getting used by language bindings but\n",
      "  then being mistakenly passed down to XGBoost core, or some parameter actually being used\n",
      "  but getting flagged wrongly here. Please open an issue if you find any such cases.\n",
      "\n",
      "\n"
     ]
    }
   ],
   "source": [
    "# stacking 建立 attr 特征\n",
    "cv = KFold(6,shuffle=True,random_state=1)\n",
    "attrs = [f'a{i}' for i in range(4, 7)]\n",
    "trn_res = None\n",
    "tst_res = None\n",
    "for attribute in attrs:\n",
    "    print(attribute)\n",
    "    m = joblib.load(f'D:\\\\机器学习\\\\model\\\\tp3_{attribute}.m')\n",
    "    trn_attr = None\n",
    "    tst_attr = None\n",
    "    for index, (trn_idx, val_idx) in enumerate(cv.split(train, attr[attribute])):\n",
    "        x_trn, x_val = train.iloc[trn_idx], train.iloc[val_idx]\n",
    "        y_trn, y_val = attr[attribute].iloc[trn_idx], attr[attribute].iloc[val_idx]\n",
    "        m.fit(x_trn, y_trn)\n",
    "        if trn_attr is None:\n",
    "            trn_attr = np.c_[val_idx, m.predict(x_val)]\n",
    "            tst_attr = m.predict(test)/cv.n_splits\n",
    "        else:\n",
    "            trn_attr = np.r_[trn_attr, np.c_[val_idx, m.predict(x_val)]]\n",
    "            tst_attr += m.predict(test)/cv.n_splits\n",
    "    trn_attr = pd.DataFrame(trn_attr).set_index(0)\n",
    "    trn_attr.index = trn_attr.index.astype('int')\n",
    "    trn_attr.columns = [attribute]\n",
    "    if trn_res is None:\n",
    "        trn_res = trn_attr\n",
    "        tst_res = tst_attr\n",
    "    else:\n",
    "        trn_res = trn_res.join(trn_attr)\n",
    "        tst_res = np.c_[tst_res,tst_attr]"
   ]
  },
  {
   "cell_type": "code",
   "execution_count": 40,
   "metadata": {},
   "outputs": [],
   "source": [
    "train = train.join(trn_res)\n",
    "tst_res = pd.DataFrame(tst_res)\n",
    "tst_res.columns = [f'a{i}' for i in range(4,7)]\n",
    "test = test.join(tst_res)"
   ]
  },
  {
   "cell_type": "code",
   "execution_count": 41,
   "metadata": {},
   "outputs": [],
   "source": [
    "# save data\n",
    "save_path = 'D:\\\\data\\\\tp6.h5'\n",
    "train.to_hdf(save_path,'train')\n",
    "target.to_hdf(save_path,'target')\n",
    "test.to_hdf(save_path,'test')\n",
    "attr.to_hdf(save_path,'attr')\n",
    "group.to_hdf(save_path,'group')"
   ]
  },
  {
   "cell_type": "code",
   "execution_count": 42,
   "metadata": {},
   "outputs": [],
   "source": [
    "# load data\n",
    "load_path = 'D:\\\\data\\\\tp6.h5'\n",
    "train = pd.read_hdf(load_path,'train')\n",
    "target = pd.read_hdf(load_path,'target')\n",
    "test = pd.read_hdf(load_path,'test')\n",
    "attr = pd.read_hdf(load_path,'attr')\n",
    "group = pd.read_hdf(load_path,'group')"
   ]
  },
  {
   "cell_type": "code",
   "execution_count": 43,
   "metadata": {},
   "outputs": [],
   "source": [
    "def create_uid(df,cols,uid_name):\n",
    "    df[uid_name]=df[cols[0]].astype(str)\n",
    "    if len(cols)>1:\n",
    "        for c in cols[1:]:\n",
    "            df[uid_name]=df[uid_name]+df[c].astype(str)\n",
    "    return df\n",
    "\n",
    "def uid_aggregation(train,test,main_cols,uid,agg_method):\n",
    "    for main_col in main_cols:\n",
    "        new_col_name=uid+'_'+main_col+'_'+agg_method\n",
    "        train[new_col_name]=train.groupby([uid])[main_col].transform(agg_method)\n",
    "        test[new_col_name]=test.groupby([uid])[main_col].transform(agg_method)\n",
    "\n",
    "def frequency_encoding(train,test,cols):\n",
    "    for c in cols:\n",
    "        new_col_name=c+'_freq'\n",
    "        train[new_col_name] = train[c].map(train[c].value_counts())\n",
    "        test[new_col_name] = test[c].map(test[c].value_counts())\n",
    "\n",
    "def nunique_encoding(train,test,main_cols,col):\n",
    "    for main_col in main_cols:\n",
    "        new_col_name=main_col+'_'+col+'_nunique'\n",
    "        train[new_col_name]= train[col].map(train.groupby(col)[main_col].nunique())\n",
    "        test[new_col_name]= test[col].map(test.groupby(col)[main_col].nunique())"
   ]
  },
  {
   "cell_type": "code",
   "execution_count": 44,
   "metadata": {},
   "outputs": [],
   "source": [
    "for c in range(4,7):\n",
    "    col='a'+str(c)\n",
    "    train[col]=train[col].round(3)\n",
    "    test[col]=test[col].round(3)\n",
    "\n",
    "# creat uids\n",
    "for key,value in {'uid1':['p5','p6'],'uid2':['p7','p9','p10'],'uid3':['p5','p6','p7','p8','p9'],'uid4':['p10', 'p9', 'p8', 'p7']}.items():\n",
    "    train=create_uid(train,cols=value,uid_name=key)\n",
    "    test=create_uid(test,cols=value,uid_name=key)\n",
    "    \n",
    "# apply uid_aggregation\n",
    "uid_aggregation(train,test,main_cols=['a4','a5'],uid='p7',agg_method='mean')\n",
    "uid_aggregation(train,test,main_cols=['a4','a5','a6'],uid='uid4',agg_method='mean')\n",
    "uid_aggregation(train,test,main_cols=['a4'],uid='uid4',agg_method='std')\n",
    "uid_aggregation(train,test,main_cols=['p5','p6'],uid='uid4',agg_method='sum')\n",
    "\n",
    "# apply frequency_encoding\n",
    "frequency_encoding(train,test,cols=['p7','p8','p10'])\n",
    "\n",
    "# apply unique_encoding\n",
    "nunique_encoding(train,test,main_cols=['p8','p9','p10'],col='p7')\n",
    "nunique_encoding(train,test,main_cols=['p9'],col='p8')\n",
    "nunique_encoding(train,test,main_cols=['uid2','uid3'],col='uid1')\n",
    "nunique_encoding(train,test,main_cols=['uid3'],col='uid2')\n",
    "\n",
    "# a4+a5+a6\n",
    "train['a4_plus_a5_plus_a6']=train['a4']+train['a5']+train['a6']\n",
    "test['a4_plus_a5_plus_a6']=test['a4']+test['a5']+test['a6']\n",
    "\n",
    "# majic_fe\n",
    "train['majic_fe']=train['uid4_p5_sum']*train['uid4_p6_sum']\n",
    "test['majic_fe']=test['uid4_p5_sum']*test['uid4_p6_sum']\n",
    "\n",
    "# drop_cols\n",
    "drop_cols=['uid1','uid2','uid3','uid4','uid4_p5_sum','uid4_p6_sum']\n",
    "train =train.drop(columns=drop_cols)\n",
    "test =test.drop(columns=drop_cols)"
   ]
  },
  {
   "cell_type": "code",
   "execution_count": 45,
   "metadata": {},
   "outputs": [],
   "source": [
    "best_hp={'max_depth': 3,\n",
    " 'learning_rate': 0.1,\n",
    " 'n_estimators': 203,\n",
    " 'verbosity': 1,\n",
    " 'objective': 'multi:softmax',\n",
    " 'booster': 'dart',\n",
    " 'n_jobs': -1,\n",
    " 'gamma': 0,\n",
    " 'min_child_weight': 1,\n",
    " 'max_delta_step': 0,\n",
    " 'subsample': 1,\n",
    " 'colsample_bytree': 1,\n",
    " 'colsample_bylevel': 1,\n",
    " 'colsample_bynode': 1,\n",
    " 'reg_alpha': 6.736871781492226,\n",
    " 'reg_lambda': 0.073512560432491,\n",
    " 'scale_pos_weight': 1,\n",
    " 'base_score': 0.5,\n",
    " 'num_class': 4,\n",
    " 'num_round': 295}"
   ]
  },
  {
   "cell_type": "code",
   "execution_count": 47,
   "metadata": {},
   "outputs": [
    {
     "name": "stdout",
     "output_type": "stream",
     "text": [
      "开始训练第1个模型：\n",
      "正在训练第1折\n",
      "[19:58:30] WARNING: C:/Users/Administrator/workspace/xgboost-win64_release_1.5.1/src/learner.cc:576: \n",
      "Parameters: { \"num_round\", \"scale_pos_weight\" } might not be used.\n",
      "\n",
      "  This could be a false alarm, with some parameters getting used by language bindings but\n",
      "  then being mistakenly passed down to XGBoost core, or some parameter actually being used\n",
      "  but getting flagged wrongly here. Please open an issue if you find any such cases.\n",
      "\n",
      "\n",
      "[19:58:30] WARNING: C:/Users/Administrator/workspace/xgboost-win64_release_1.5.1/src/learner.cc:1115: Starting in XGBoost 1.3.0, the default evaluation metric used with the objective 'multi:softprob' was changed from 'merror' to 'mlogloss'. Explicitly set eval_metric if you'd like to restore the old behavior.\n"
     ]
    },
    {
     "name": "stderr",
     "output_type": "stream",
     "text": [
      "C:\\ProgramData\\Anaconda3\\lib\\site-packages\\xgboost\\sklearn.py:1224: UserWarning: The use of label encoder in XGBClassifier is deprecated and will be removed in a future release. To remove this warning, do the following: 1) Pass option use_label_encoder=False when constructing XGBClassifier object; and 2) Encode your labels (y) as integers starting with 0, i.e. 0, 1, 2, ..., [num_class - 1].\n",
      "  warnings.warn(label_encoder_deprecation_msg, UserWarning)\n"
     ]
    },
    {
     "name": "stdout",
     "output_type": "stream",
     "text": [
      "正在训练第2折\n",
      "[19:59:11] WARNING: C:/Users/Administrator/workspace/xgboost-win64_release_1.5.1/src/learner.cc:576: \n",
      "Parameters: { \"num_round\", \"scale_pos_weight\" } might not be used.\n",
      "\n",
      "  This could be a false alarm, with some parameters getting used by language bindings but\n",
      "  then being mistakenly passed down to XGBoost core, or some parameter actually being used\n",
      "  but getting flagged wrongly here. Please open an issue if you find any such cases.\n",
      "\n",
      "\n",
      "[19:59:11] WARNING: C:/Users/Administrator/workspace/xgboost-win64_release_1.5.1/src/learner.cc:1115: Starting in XGBoost 1.3.0, the default evaluation metric used with the objective 'multi:softprob' was changed from 'merror' to 'mlogloss'. Explicitly set eval_metric if you'd like to restore the old behavior.\n",
      "正在训练第3折\n",
      "[19:59:57] WARNING: C:/Users/Administrator/workspace/xgboost-win64_release_1.5.1/src/learner.cc:576: \n",
      "Parameters: { \"num_round\", \"scale_pos_weight\" } might not be used.\n",
      "\n",
      "  This could be a false alarm, with some parameters getting used by language bindings but\n",
      "  then being mistakenly passed down to XGBoost core, or some parameter actually being used\n",
      "  but getting flagged wrongly here. Please open an issue if you find any such cases.\n",
      "\n",
      "\n",
      "[19:59:57] WARNING: C:/Users/Administrator/workspace/xgboost-win64_release_1.5.1/src/learner.cc:1115: Starting in XGBoost 1.3.0, the default evaluation metric used with the objective 'multi:softprob' was changed from 'merror' to 'mlogloss'. Explicitly set eval_metric if you'd like to restore the old behavior.\n",
      "正在训练第4折\n",
      "[20:00:43] WARNING: C:/Users/Administrator/workspace/xgboost-win64_release_1.5.1/src/learner.cc:576: \n",
      "Parameters: { \"num_round\", \"scale_pos_weight\" } might not be used.\n",
      "\n",
      "  This could be a false alarm, with some parameters getting used by language bindings but\n",
      "  then being mistakenly passed down to XGBoost core, or some parameter actually being used\n",
      "  but getting flagged wrongly here. Please open an issue if you find any such cases.\n",
      "\n",
      "\n",
      "[20:00:43] WARNING: C:/Users/Administrator/workspace/xgboost-win64_release_1.5.1/src/learner.cc:1115: Starting in XGBoost 1.3.0, the default evaluation metric used with the objective 'multi:softprob' was changed from 'merror' to 'mlogloss'. Explicitly set eval_metric if you'd like to restore the old behavior.\n",
      "正在训练第5折\n",
      "[20:01:29] WARNING: C:/Users/Administrator/workspace/xgboost-win64_release_1.5.1/src/learner.cc:576: \n",
      "Parameters: { \"num_round\", \"scale_pos_weight\" } might not be used.\n",
      "\n",
      "  This could be a false alarm, with some parameters getting used by language bindings but\n",
      "  then being mistakenly passed down to XGBoost core, or some parameter actually being used\n",
      "  but getting flagged wrongly here. Please open an issue if you find any such cases.\n",
      "\n",
      "\n",
      "[20:01:29] WARNING: C:/Users/Administrator/workspace/xgboost-win64_release_1.5.1/src/learner.cc:1115: Starting in XGBoost 1.3.0, the default evaluation metric used with the objective 'multi:softprob' was changed from 'merror' to 'mlogloss'. Explicitly set eval_metric if you'd like to restore the old behavior.\n",
      "logloss 1.0500451711933882\n",
      "ac 0.5494046698623782\n",
      "开始训练第2个模型：\n",
      "正在训练第1折\n",
      "[20:02:16] WARNING: C:/Users/Administrator/workspace/xgboost-win64_release_1.5.1/src/learner.cc:576: \n",
      "Parameters: { \"num_round\", \"scale_pos_weight\" } might not be used.\n",
      "\n",
      "  This could be a false alarm, with some parameters getting used by language bindings but\n",
      "  then being mistakenly passed down to XGBoost core, or some parameter actually being used\n",
      "  but getting flagged wrongly here. Please open an issue if you find any such cases.\n",
      "\n",
      "\n",
      "[20:02:16] WARNING: C:/Users/Administrator/workspace/xgboost-win64_release_1.5.1/src/learner.cc:1115: Starting in XGBoost 1.3.0, the default evaluation metric used with the objective 'multi:softprob' was changed from 'merror' to 'mlogloss'. Explicitly set eval_metric if you'd like to restore the old behavior.\n"
     ]
    },
    {
     "name": "stderr",
     "output_type": "stream",
     "text": [
      "C:\\ProgramData\\Anaconda3\\lib\\site-packages\\xgboost\\sklearn.py:1224: UserWarning: The use of label encoder in XGBClassifier is deprecated and will be removed in a future release. To remove this warning, do the following: 1) Pass option use_label_encoder=False when constructing XGBClassifier object; and 2) Encode your labels (y) as integers starting with 0, i.e. 0, 1, 2, ..., [num_class - 1].\n",
      "  warnings.warn(label_encoder_deprecation_msg, UserWarning)\n"
     ]
    },
    {
     "name": "stdout",
     "output_type": "stream",
     "text": [
      "正在训练第2折\n",
      "[20:03:03] WARNING: C:/Users/Administrator/workspace/xgboost-win64_release_1.5.1/src/learner.cc:576: \n",
      "Parameters: { \"num_round\", \"scale_pos_weight\" } might not be used.\n",
      "\n",
      "  This could be a false alarm, with some parameters getting used by language bindings but\n",
      "  then being mistakenly passed down to XGBoost core, or some parameter actually being used\n",
      "  but getting flagged wrongly here. Please open an issue if you find any such cases.\n",
      "\n",
      "\n",
      "[20:03:03] WARNING: C:/Users/Administrator/workspace/xgboost-win64_release_1.5.1/src/learner.cc:1115: Starting in XGBoost 1.3.0, the default evaluation metric used with the objective 'multi:softprob' was changed from 'merror' to 'mlogloss'. Explicitly set eval_metric if you'd like to restore the old behavior.\n",
      "正在训练第3折\n",
      "[20:03:52] WARNING: C:/Users/Administrator/workspace/xgboost-win64_release_1.5.1/src/learner.cc:576: \n",
      "Parameters: { \"num_round\", \"scale_pos_weight\" } might not be used.\n",
      "\n",
      "  This could be a false alarm, with some parameters getting used by language bindings but\n",
      "  then being mistakenly passed down to XGBoost core, or some parameter actually being used\n",
      "  but getting flagged wrongly here. Please open an issue if you find any such cases.\n",
      "\n",
      "\n",
      "[20:03:52] WARNING: C:/Users/Administrator/workspace/xgboost-win64_release_1.5.1/src/learner.cc:1115: Starting in XGBoost 1.3.0, the default evaluation metric used with the objective 'multi:softprob' was changed from 'merror' to 'mlogloss'. Explicitly set eval_metric if you'd like to restore the old behavior.\n",
      "正在训练第4折\n",
      "[20:04:47] WARNING: C:/Users/Administrator/workspace/xgboost-win64_release_1.5.1/src/learner.cc:576: \n",
      "Parameters: { \"num_round\", \"scale_pos_weight\" } might not be used.\n",
      "\n",
      "  This could be a false alarm, with some parameters getting used by language bindings but\n",
      "  then being mistakenly passed down to XGBoost core, or some parameter actually being used\n",
      "  but getting flagged wrongly here. Please open an issue if you find any such cases.\n",
      "\n",
      "\n",
      "[20:04:47] WARNING: C:/Users/Administrator/workspace/xgboost-win64_release_1.5.1/src/learner.cc:1115: Starting in XGBoost 1.3.0, the default evaluation metric used with the objective 'multi:softprob' was changed from 'merror' to 'mlogloss'. Explicitly set eval_metric if you'd like to restore the old behavior.\n",
      "正在训练第5折\n",
      "[20:05:43] WARNING: C:/Users/Administrator/workspace/xgboost-win64_release_1.5.1/src/learner.cc:576: \n",
      "Parameters: { \"num_round\", \"scale_pos_weight\" } might not be used.\n",
      "\n",
      "  This could be a false alarm, with some parameters getting used by language bindings but\n",
      "  then being mistakenly passed down to XGBoost core, or some parameter actually being used\n",
      "  but getting flagged wrongly here. Please open an issue if you find any such cases.\n",
      "\n",
      "\n",
      "[20:05:43] WARNING: C:/Users/Administrator/workspace/xgboost-win64_release_1.5.1/src/learner.cc:1115: Starting in XGBoost 1.3.0, the default evaluation metric used with the objective 'multi:softprob' was changed from 'merror' to 'mlogloss'. Explicitly set eval_metric if you'd like to restore the old behavior.\n",
      "logloss 1.0490043211472881\n",
      "ac 0.5488634606463584\n",
      "开始训练第3个模型：\n",
      "正在训练第1折\n",
      "[20:06:37] WARNING: C:/Users/Administrator/workspace/xgboost-win64_release_1.5.1/src/learner.cc:576: \n",
      "Parameters: { \"num_round\", \"scale_pos_weight\" } might not be used.\n",
      "\n",
      "  This could be a false alarm, with some parameters getting used by language bindings but\n",
      "  then being mistakenly passed down to XGBoost core, or some parameter actually being used\n",
      "  but getting flagged wrongly here. Please open an issue if you find any such cases.\n",
      "\n",
      "\n",
      "[20:06:37] WARNING: C:/Users/Administrator/workspace/xgboost-win64_release_1.5.1/src/learner.cc:1115: Starting in XGBoost 1.3.0, the default evaluation metric used with the objective 'multi:softprob' was changed from 'merror' to 'mlogloss'. Explicitly set eval_metric if you'd like to restore the old behavior.\n"
     ]
    },
    {
     "name": "stderr",
     "output_type": "stream",
     "text": [
      "C:\\ProgramData\\Anaconda3\\lib\\site-packages\\xgboost\\sklearn.py:1224: UserWarning: The use of label encoder in XGBClassifier is deprecated and will be removed in a future release. To remove this warning, do the following: 1) Pass option use_label_encoder=False when constructing XGBClassifier object; and 2) Encode your labels (y) as integers starting with 0, i.e. 0, 1, 2, ..., [num_class - 1].\n",
      "  warnings.warn(label_encoder_deprecation_msg, UserWarning)\n"
     ]
    },
    {
     "name": "stdout",
     "output_type": "stream",
     "text": [
      "正在训练第2折\n",
      "[20:07:30] WARNING: C:/Users/Administrator/workspace/xgboost-win64_release_1.5.1/src/learner.cc:576: \n",
      "Parameters: { \"num_round\", \"scale_pos_weight\" } might not be used.\n",
      "\n",
      "  This could be a false alarm, with some parameters getting used by language bindings but\n",
      "  then being mistakenly passed down to XGBoost core, or some parameter actually being used\n",
      "  but getting flagged wrongly here. Please open an issue if you find any such cases.\n",
      "\n",
      "\n",
      "[20:07:30] WARNING: C:/Users/Administrator/workspace/xgboost-win64_release_1.5.1/src/learner.cc:1115: Starting in XGBoost 1.3.0, the default evaluation metric used with the objective 'multi:softprob' was changed from 'merror' to 'mlogloss'. Explicitly set eval_metric if you'd like to restore the old behavior.\n",
      "正在训练第3折\n",
      "[20:08:19] WARNING: C:/Users/Administrator/workspace/xgboost-win64_release_1.5.1/src/learner.cc:576: \n",
      "Parameters: { \"num_round\", \"scale_pos_weight\" } might not be used.\n",
      "\n",
      "  This could be a false alarm, with some parameters getting used by language bindings but\n",
      "  then being mistakenly passed down to XGBoost core, or some parameter actually being used\n",
      "  but getting flagged wrongly here. Please open an issue if you find any such cases.\n",
      "\n",
      "\n",
      "[20:08:19] WARNING: C:/Users/Administrator/workspace/xgboost-win64_release_1.5.1/src/learner.cc:1115: Starting in XGBoost 1.3.0, the default evaluation metric used with the objective 'multi:softprob' was changed from 'merror' to 'mlogloss'. Explicitly set eval_metric if you'd like to restore the old behavior.\n",
      "正在训练第4折\n",
      "[20:09:13] WARNING: C:/Users/Administrator/workspace/xgboost-win64_release_1.5.1/src/learner.cc:576: \n",
      "Parameters: { \"num_round\", \"scale_pos_weight\" } might not be used.\n",
      "\n",
      "  This could be a false alarm, with some parameters getting used by language bindings but\n",
      "  then being mistakenly passed down to XGBoost core, or some parameter actually being used\n",
      "  but getting flagged wrongly here. Please open an issue if you find any such cases.\n",
      "\n",
      "\n",
      "[20:09:13] WARNING: C:/Users/Administrator/workspace/xgboost-win64_release_1.5.1/src/learner.cc:1115: Starting in XGBoost 1.3.0, the default evaluation metric used with the objective 'multi:softprob' was changed from 'merror' to 'mlogloss'. Explicitly set eval_metric if you'd like to restore the old behavior.\n",
      "正在训练第5折\n",
      "[20:10:08] WARNING: C:/Users/Administrator/workspace/xgboost-win64_release_1.5.1/src/learner.cc:576: \n",
      "Parameters: { \"num_round\", \"scale_pos_weight\" } might not be used.\n",
      "\n",
      "  This could be a false alarm, with some parameters getting used by language bindings but\n",
      "  then being mistakenly passed down to XGBoost core, or some parameter actually being used\n",
      "  but getting flagged wrongly here. Please open an issue if you find any such cases.\n",
      "\n",
      "\n",
      "[20:10:08] WARNING: C:/Users/Administrator/workspace/xgboost-win64_release_1.5.1/src/learner.cc:1115: Starting in XGBoost 1.3.0, the default evaluation metric used with the objective 'multi:softprob' was changed from 'merror' to 'mlogloss'. Explicitly set eval_metric if you'd like to restore the old behavior.\n",
      "logloss 1.0484446991513556\n",
      "ac 0.5507190351012834\n",
      "******************************\n",
      "mean_logloss 1.0473521436955064\n",
      "mean_ac 0.5515695067264574\n"
     ]
    }
   ],
   "source": [
    "from sklearn.metrics import log_loss, accuracy_score\n",
    "\n",
    "oof = np.zeros((train.shape[0], 4))\n",
    "prediction = np.zeros((test.shape[0], 4))\n",
    "seeds = [123456, 87654, 676767]\n",
    "num_model_seed = 3\n",
    "for model_seed in range(num_model_seed):\n",
    "    print(\"开始训练第%d个模型：\" % (model_seed + 1))\n",
    "    oof_cat = np.zeros((train.shape[0], 4))\n",
    "    prediction_cat = np.zeros((test.shape[0], 4))\n",
    "    skf = StratifiedKFold(n_splits=5, random_state=seeds[model_seed], shuffle=True)\n",
    "    for index, (train_index, test_index) in enumerate(skf.split(train, target)):\n",
    "        print(\"正在训练第%d折\" % (index + 1))\n",
    "        train_x, test_x, train_y, test_y = train.iloc[train_index], train.iloc[test_index], target.iloc[train_index], \\\n",
    "                                           target.iloc[test_index]\n",
    "        gc.collect()\n",
    "        m = xgb.XGBClassifier().set_params(**best_hp).set_params(n_jobs=-1,learning_rate=0.05)\n",
    "        m.fit(train_x, train_y) # xgb需要接受的是字典\n",
    "        oof_cat[test_index] += m.predict_proba(test_x)\n",
    "        prediction_cat += m.predict_proba(test) / skf.n_splits\n",
    "        gc.collect()\n",
    "    oof += oof_cat / num_model_seed\n",
    "    prediction += prediction_cat / num_model_seed\n",
    "    print('logloss', log_loss(pd.get_dummies(target).values, oof_cat))\n",
    "    print('ac', accuracy_score(target, np.argmax(oof_cat, axis=1)))\n",
    "print(\"*\" * 30)\n",
    "print('mean_logloss', log_loss(pd.get_dummies(target).values, oof))\n",
    "print('mean_ac', accuracy_score(target, np.argmax(oof, axis=1)))\n",
    "\n",
    "group_size=50\n",
    "mname='CCF_model_xgb'\n",
    "res_prob = pd.DataFrame(np.c_[group,prediction])\n",
    "res_prob.columns=['Group', 'Fail ratio', 'Pass ratio', 'Good ratio', 'Excellent ratio']\n",
    "res_prob = res_prob[['Group', 'Excellent ratio','Good ratio', 'Pass ratio','Fail ratio']]\n",
    "res_prob =(res_prob.groupby('Group').sum()/group_size).reset_index()\n",
    "res_prob.to_csv(f'D:\\\\机器学习\\\\submission\\\\{mname}_prob.csv',index=False,encoding='utf-8')"
   ]
  },
  {
   "cell_type": "code",
   "execution_count": 48,
   "metadata": {},
   "outputs": [
    {
     "data": {
      "text/plain": [
       "27"
      ]
     },
     "execution_count": 48,
     "metadata": {},
     "output_type": "execute_result"
    }
   ],
   "source": [
    "len(train.columns)"
   ]
  },
  {
   "cell_type": "code",
   "execution_count": 49,
   "metadata": {},
   "outputs": [
    {
     "data": {
      "text/plain": [
       "Index(['p5', 'p6', 'p7', 'p8', 'p9', 'p10', 'a4', 'a5', 'a6', 'p7_a4_mean',\n",
       "       'p7_a5_mean', 'uid4_a4_mean', 'uid4_a5_mean', 'uid4_a6_mean',\n",
       "       'uid4_a4_std', 'p7_freq', 'p8_freq', 'p10_freq', 'p8_p7_nunique',\n",
       "       'p9_p7_nunique', 'p10_p7_nunique', 'p9_p8_nunique', 'uid2_uid1_nunique',\n",
       "       'uid3_uid1_nunique', 'uid3_uid2_nunique', 'a4_plus_a5_plus_a6',\n",
       "       'majic_fe'],\n",
       "      dtype='object')"
      ]
     },
     "execution_count": 49,
     "metadata": {},
     "output_type": "execute_result"
    }
   ],
   "source": [
    "train.columns"
   ]
  },
  {
   "cell_type": "code",
   "execution_count": null,
   "metadata": {},
   "outputs": [],
   "source": []
  }
 ],
 "metadata": {
  "kernelspec": {
   "display_name": "Python 3",
   "language": "python",
   "name": "python3"
  },
  "language_info": {
   "codemirror_mode": {
    "name": "ipython",
    "version": 3
   },
   "file_extension": ".py",
   "mimetype": "text/x-python",
   "name": "python",
   "nbconvert_exporter": "python",
   "pygments_lexer": "ipython3",
   "version": "3.8.5"
  }
 },
 "nbformat": 4,
 "nbformat_minor": 4
}
